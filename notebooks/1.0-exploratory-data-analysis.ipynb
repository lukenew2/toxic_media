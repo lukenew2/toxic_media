{
 "cells": [
  {
   "cell_type": "markdown",
   "id": "10932aa5",
   "metadata": {},
   "source": [
    "# Exploratory Data Analysis \n",
    "---\n",
    "*Disclaimer: This notebook contains text that is profound, vulgar, and offensive due to the nature of the dataset.*\n",
    "\n",
    "We live in an age where people's lives have become intertwined with their online presence allowing humans to engage with one another on a larger scale than ever before.  However, not all of these interactions foster growth.  People exploit the fact that their identity remains hidden and choose to target one another with unwarranted abuse causing harm instead of growth.  For our society to truly prosper from the digital age we have to combat this toxic behavior.  This will enable more and more people who are scared of what other people will think when they post on social media to engage freely without the fear of being the target of online hate.  \n",
    "\n",
    "Our task is to improve civility on social media platforms (e.g., Twitter) and online comment forums (e.g., Reddit) by training a model that determines how likely a users comment will make another user leave a conversation.  With our model, we will create a web application that tracks how toxic each social media platform and online comment forum is to bring awareness to this issue and spark initiative to create a toxic free environment for all users.  \n",
    "\n",
    "This issue can only be solved with the help of everyone by encouraging kindness instead of spreading hate."
   ]
  },
  {
   "cell_type": "markdown",
   "id": "6cb820bb",
   "metadata": {},
   "source": [
    "## Data Description\n",
    "The dataset used in this project is from the kaggle competition: [Jigsaw Unintended Bias in Toxicity Classification](https://www.kaggle.com/c/jigsaw-unintended-bias-in-toxicity-classification/data).\n",
    "\n",
    "In 2017 the Civil Comments platform shutdown and released their archive of ~2 million public comments for researchers to study in an effort to improve civility online. Jigsaw funded the annotation of this data by human raters. \n",
    "\n",
    "The column `toxicity` is our toxicity label which contains a number between 0-1 denoting the fraction of human labelers that believed the comment would make someone else leave a conversation. \n",
    "\n",
    "For our analysis we'll define the comment as toxic (denoted 1) when the value of our target `toxicity` is greater than or equal to 0.5 otherwise we'll assign the instance to the negative class (denoted 0).\n",
    "\n",
    "There are a lot of additional labels denoting the fraction of human labelers who believed the comment depicted several other sub-toxic labels and whether specific identity groups were mentioned in the comment. These columns will be **removed** from our analysis because we will not have access to this data in the production environment.\n",
    "\n",
    "### Labeling Schema\n",
    "As mentioned on Kaggle, each comment was shown to up to 10 human labelers.  The labelers were asked to rate how toxic each comment is. \n",
    "* Very Toxic\n",
    "* Toxic\n",
    "* Hard to Say\n",
    "* Not Toxic\n",
    "\n",
    "The ratings were then aggragated into the `target` column.\n",
    "\n",
    "*Note: Some comments were shown to more than 10 human labelers because of sampling strategies to increase rating accuracy.*"
   ]
  },
  {
   "cell_type": "code",
   "execution_count": 30,
   "id": "e44666c9",
   "metadata": {},
   "outputs": [],
   "source": [
    "import matplotlib.pyplot as plt\n",
    "import matplotlib.ticker as ticker\n",
    "import os\n",
    "import pandas as pd\n",
    "\n",
    "import nltk\n",
    "from sklearn.model_selection import train_test_split\n",
    "import tensorflow as tf\n",
    "import textblob\n",
    "import wordcloud\n",
    "\n",
    "# Root directory used to navigate tree.\n",
    "PROJECT_ROOT_DIR = os.path.dirname(os.getcwd())\n",
    "\n",
    "# Path to save images and figures.\n",
    "IMAGES_PATH = os.path.join(PROJECT_ROOT_DIR, \"reports/figures\")\n",
    "if not os.path.exists(IMAGES_PATH):\n",
    "    os.makedirs(IMAGES_PATH, exist_ok=True)\n",
    "    \n",
    "def save_fig(fig_id, tight_layout=True, fig_extension=\"png\", resolution=300):\n",
    "    \"\"\"\n",
    "    Saves figures in toxic_media/reports/figures.\n",
    "    \n",
    "    Parameters\n",
    "    ----------\n",
    "    fig_id : str\n",
    "        Name of the figure to be saved.\n",
    "    tight_layout : bool, default=True\n",
    "        Enables padding between figure edge and edges of subplots when set to True.\n",
    "    fig_extension : {'jpg', 'png', 'svg'}, default='png'\n",
    "        Figure format.\n",
    "    resolution : int\n",
    "        Figure resolution.\n",
    "    \"\"\"\n",
    "    path = os.path.join(IMAGES_PATH, fig_id + \".\" + fig_extension)\n",
    "    print(f\"Saving figure: {fig_id}\")\n",
    "    if tight_layout:\n",
    "        plt.tight_layout()\n",
    "    plt.savefig(path, format=fig_extension, dpi=resolution)"
   ]
  },
  {
   "cell_type": "markdown",
   "id": "b92ebaf8",
   "metadata": {},
   "source": [
    "## Load Data\n",
    "We're going to start by loading the raw data to get a quick look at it before creating a training set with which we'll use to explore in-depth. As mentioned above, the initial data file has extra columns we will not be using.  Therefore, we'll only load in the target column and the comment text. "
   ]
  },
  {
   "cell_type": "code",
   "execution_count": 6,
   "id": "be8a5710",
   "metadata": {},
   "outputs": [],
   "source": [
    "DATA_DIR = os.path.join(PROJECT_ROOT_DIR, \"data\")\n",
    "\n",
    "def load_data(path=\"raw/all_data.csv\"):\n",
    "    \"\"\"\n",
    "    Load data into pandas dataframe object.\n",
    "    \n",
    "    Parameters\n",
    "    ----------\n",
    "    path : str, default=raw/all_data.csv\n",
    "        Directory and filename in format 'directory/filename.csv'.\n",
    "    \"\"\"\n",
    "    csv_path = os.path.join(DATA_DIR, path)\n",
    "    \n",
    "    return pd.read_csv(csv_path, usecols=['comment_text', 'toxicity'])"
   ]
  },
  {
   "cell_type": "code",
   "execution_count": 7,
   "id": "2c50651c",
   "metadata": {},
   "outputs": [],
   "source": [
    "toxic = load_data()"
   ]
  },
  {
   "cell_type": "code",
   "execution_count": 8,
   "id": "20c94e0c",
   "metadata": {},
   "outputs": [
    {
     "data": {
      "text/html": [
       "<div>\n",
       "<style scoped>\n",
       "    .dataframe tbody tr th:only-of-type {\n",
       "        vertical-align: middle;\n",
       "    }\n",
       "\n",
       "    .dataframe tbody tr th {\n",
       "        vertical-align: top;\n",
       "    }\n",
       "\n",
       "    .dataframe thead th {\n",
       "        text-align: right;\n",
       "    }\n",
       "</style>\n",
       "<table border=\"1\" class=\"dataframe\">\n",
       "  <thead>\n",
       "    <tr style=\"text-align: right;\">\n",
       "      <th></th>\n",
       "      <th>comment_text</th>\n",
       "      <th>toxicity</th>\n",
       "    </tr>\n",
       "  </thead>\n",
       "  <tbody>\n",
       "    <tr>\n",
       "      <th>0</th>\n",
       "      <td>He got his money... now he lies in wait till a...</td>\n",
       "      <td>0.373134</td>\n",
       "    </tr>\n",
       "    <tr>\n",
       "      <th>1</th>\n",
       "      <td>Mad dog will surely put the liberals in mental...</td>\n",
       "      <td>0.605263</td>\n",
       "    </tr>\n",
       "    <tr>\n",
       "      <th>2</th>\n",
       "      <td>And Trump continues his lifelong cowardice by ...</td>\n",
       "      <td>0.666667</td>\n",
       "    </tr>\n",
       "    <tr>\n",
       "      <th>3</th>\n",
       "      <td>\"while arresting a man for resisting arrest\".\\...</td>\n",
       "      <td>0.815789</td>\n",
       "    </tr>\n",
       "    <tr>\n",
       "      <th>4</th>\n",
       "      <td>Tucker and Paul are both total bad ass mofo's.</td>\n",
       "      <td>0.550000</td>\n",
       "    </tr>\n",
       "  </tbody>\n",
       "</table>\n",
       "</div>"
      ],
      "text/plain": [
       "                                        comment_text  toxicity\n",
       "0  He got his money... now he lies in wait till a...  0.373134\n",
       "1  Mad dog will surely put the liberals in mental...  0.605263\n",
       "2  And Trump continues his lifelong cowardice by ...  0.666667\n",
       "3  \"while arresting a man for resisting arrest\".\\...  0.815789\n",
       "4     Tucker and Paul are both total bad ass mofo's.  0.550000"
      ]
     },
     "execution_count": 8,
     "metadata": {},
     "output_type": "execute_result"
    }
   ],
   "source": [
    "toxic.head()"
   ]
  },
  {
   "cell_type": "code",
   "execution_count": 9,
   "id": "8d4309c7",
   "metadata": {},
   "outputs": [
    {
     "name": "stdout",
     "output_type": "stream",
     "text": [
      "<class 'pandas.core.frame.DataFrame'>\n",
      "RangeIndex: 1999516 entries, 0 to 1999515\n",
      "Data columns (total 2 columns):\n",
      " #   Column        Dtype  \n",
      "---  ------        -----  \n",
      " 0   comment_text  object \n",
      " 1   toxicity      float64\n",
      "dtypes: float64(1), object(1)\n",
      "memory usage: 30.5+ MB\n"
     ]
    }
   ],
   "source": [
    "toxic.info()"
   ]
  },
  {
   "cell_type": "code",
   "execution_count": 10,
   "id": "61f0724a",
   "metadata": {},
   "outputs": [
    {
     "data": {
      "text/plain": [
       "comment_text    5.001210e-07\n",
       "toxicity        0.000000e+00\n",
       "dtype: float64"
      ]
     },
     "execution_count": 10,
     "metadata": {},
     "output_type": "execute_result"
    }
   ],
   "source": [
    "toxic.isnull().sum() / len(toxic)"
   ]
  },
  {
   "cell_type": "code",
   "execution_count": 11,
   "id": "bda72c28",
   "metadata": {
    "scrolled": true
   },
   "outputs": [
    {
     "data": {
      "text/html": [
       "<div>\n",
       "<style scoped>\n",
       "    .dataframe tbody tr th:only-of-type {\n",
       "        vertical-align: middle;\n",
       "    }\n",
       "\n",
       "    .dataframe tbody tr th {\n",
       "        vertical-align: top;\n",
       "    }\n",
       "\n",
       "    .dataframe thead th {\n",
       "        text-align: right;\n",
       "    }\n",
       "</style>\n",
       "<table border=\"1\" class=\"dataframe\">\n",
       "  <thead>\n",
       "    <tr style=\"text-align: right;\">\n",
       "      <th></th>\n",
       "      <th>toxicity</th>\n",
       "    </tr>\n",
       "  </thead>\n",
       "  <tbody>\n",
       "    <tr>\n",
       "      <th>count</th>\n",
       "      <td>1.999516e+06</td>\n",
       "    </tr>\n",
       "    <tr>\n",
       "      <th>mean</th>\n",
       "      <td>1.029241e-01</td>\n",
       "    </tr>\n",
       "    <tr>\n",
       "      <th>std</th>\n",
       "      <td>1.970386e-01</td>\n",
       "    </tr>\n",
       "    <tr>\n",
       "      <th>min</th>\n",
       "      <td>0.000000e+00</td>\n",
       "    </tr>\n",
       "    <tr>\n",
       "      <th>25%</th>\n",
       "      <td>0.000000e+00</td>\n",
       "    </tr>\n",
       "    <tr>\n",
       "      <th>50%</th>\n",
       "      <td>0.000000e+00</td>\n",
       "    </tr>\n",
       "    <tr>\n",
       "      <th>75%</th>\n",
       "      <td>1.666667e-01</td>\n",
       "    </tr>\n",
       "    <tr>\n",
       "      <th>max</th>\n",
       "      <td>1.000000e+00</td>\n",
       "    </tr>\n",
       "  </tbody>\n",
       "</table>\n",
       "</div>"
      ],
      "text/plain": [
       "           toxicity\n",
       "count  1.999516e+06\n",
       "mean   1.029241e-01\n",
       "std    1.970386e-01\n",
       "min    0.000000e+00\n",
       "25%    0.000000e+00\n",
       "50%    0.000000e+00\n",
       "75%    1.666667e-01\n",
       "max    1.000000e+00"
      ]
     },
     "execution_count": 11,
     "metadata": {},
     "output_type": "execute_result"
    }
   ],
   "source": [
    "toxic.describe()"
   ]
  },
  {
   "cell_type": "code",
   "execution_count": 39,
   "id": "bdba5ca9",
   "metadata": {},
   "outputs": [
    {
     "data": {
      "image/png": "[encoded data removed]",
      "text/plain": [
       "<Figure size 432x288 with 1 Axes>"
      ]
     },
     "metadata": {
      "needs_background": "light"
     },
     "output_type": "display_data"
    }
   ],
   "source": [
    "toxic.hist()\n",
    "plt.show()"
   ]
  },
  {
   "cell_type": "code",
   "execution_count": 41,
   "id": "3d1647f5",
   "metadata": {},
   "outputs": [
    {
     "data": {
      "text/plain": [
       "0.0    0.941048\n",
       "1.0    0.058952\n",
       "Name: toxicity, dtype: float64"
      ]
     },
     "execution_count": 41,
     "metadata": {},
     "output_type": "execute_result"
    }
   ],
   "source": [
    "toxic[\"toxicity\"].round().value_counts() / len(toxic)"
   ]
  },
  {
   "cell_type": "markdown",
   "id": "d2231d31",
   "metadata": {},
   "source": [
    "### Summary\n",
    "After our initial look into the data we found a few things to take note of:\n",
    "* We're missing text in a few instances (handle this in preprocessing).\n",
    "* Our target column `toxicity` is heavily skewed towards 0 meaning we'll have to deal with a class imbalance when it comes to modeling (~5% of comments are toxic).\n",
    "* There is a good amount of instances labeled around 0.5 that might be hard to predict.  It seems labelers were not in agreement whether these comments were toxic."
   ]
  },
  {
   "cell_type": "markdown",
   "id": "56c6c441",
   "metadata": {},
   "source": [
    "## Test Set\n",
    "Before we dive deep into the dataset we need to create a test set.  Our test set will be 5% (~100,000 instances) which is plenty big enough to provide accurate statistics in our modeling phase. Since we plan on building deep learning models which benefit greatly from large amounts of data this will allow us to allocate 95% of our dataset for training.  \n",
    "\n",
    "Since our dataset is imbalanced we will use stratified sampling to preserve the ratio of classes in the test set."
   ]
  },
  {
   "cell_type": "code",
   "execution_count": 45,
   "id": "4b3861cd",
   "metadata": {},
   "outputs": [],
   "source": [
    "X = toxic['comment_text']\n",
    "y = toxic['toxicity'].round()\n",
    "\n",
    "def create_test(X, y, test_size=0.05):\n",
    "    \"\"\"\n",
    "    Create holdout data with stratified sampling techniques.\n",
    "    \n",
    "    Parameters\n",
    "    ----------\n",
    "    X : array-like of shape (n_samples, n_features)\n",
    "        Raw feature set to be split into training and test set.\n",
    "    test_size : float, default=0.05\n",
    "        Decimal value representing percentage of dataset used to create holdout set.\n",
    "        \n",
    "    Notes\n",
    "    -----\n",
    "    This function only creates the test set if it has not been created yet.  \n",
    "    \"\"\"\n",
    "    # Check if test set exists.\n",
    "    TEST_PATH = os.path.join(DATA_DIR, \"interim/test.csv\")\n",
    "    if not os.path.exists(TEST_PATH):\n",
    "        \n",
    "        # Train test split with stratified sampling of the target.\n",
    "        X_train, X_test, y_train, y_test = train_test_split(X, y, test_size=test_size,\n",
    "                                                            stratify=y)\n",
    "        \n",
    "        # Combine target and text into train and test sets.\n",
    "        train = pd.concat([X_train, y_train], axis=1)\n",
    "        test = pd.concat([X_test, y_test], axis=1)\n",
    "        \n",
    "        # Save train and test set in directory /data/interim\n",
    "        path = os.path.join(DATA_DIR, \"interim\")\n",
    "        train.to_csv(os.path.join(path, \"train.csv\"), index=False)\n",
    "        test.to_csv(os.path.join(path, \"test.csv\"), index=False)\n",
    "\n",
    "create_test(X, y)"
   ]
  },
  {
   "cell_type": "markdown",
   "id": "f8c034a3",
   "metadata": {},
   "source": [
    "## Data Exploration"
   ]
  },
  {
   "cell_type": "code",
   "execution_count": 46,
   "id": "70dd74c7",
   "metadata": {},
   "outputs": [],
   "source": [
    "toxic = load_data(path=\"interim/train.csv\")"
   ]
  }
 ],
 "metadata": {
  "kernelspec": {
   "display_name": "toxic",
   "language": "python",
   "name": "toxic"
  },
  "language_info": {
   "codemirror_mode": {
    "name": "ipython",
    "version": 3
   },
   "file_extension": ".py",
   "mimetype": "text/x-python",
   "name": "python",
   "nbconvert_exporter": "python",
   "pygments_lexer": "ipython3",
   "version": "3.8.10"
  }
 },
 "nbformat": 4,
 "nbformat_minor": 5
}
